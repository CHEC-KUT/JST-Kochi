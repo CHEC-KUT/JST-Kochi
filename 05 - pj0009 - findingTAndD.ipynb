{
 "cells": [
  {
   "cell_type": "code",
   "execution_count": 23,
   "metadata": {
    "collapsed": true
   },
   "outputs": [],
   "source": [
    "import os\n",
    "import csv\n",
    "import codecs\n",
    "import numpy"
   ]
  },
  {
   "cell_type": "code",
   "execution_count": 24,
   "metadata": {
    "collapsed": true
   },
   "outputs": [],
   "source": [
    "def readAlltlogs():\n",
    "    path = '.\\\\PJ0009\\\\data\\\\tlogs_' #文件夹目录  \n",
    "    files= os.listdir(path) #得到文件夹下的所有文件名称  \n",
    "    tlogs = []\n",
    "    for file in files: #遍历文件夹\n",
    "         sentence = (file.split('.')[0]).split('_')[3]\n",
    "         block = (file.split('.')[0]).split('_')[2]\n",
    "         if not os.path.isdir(file): #判断是否是文件夹，不是文件夹才打开  \n",
    "              f = open(path+\"\\\\\"+file, 'r', encoding = 'utf8'); #打开文件\n",
    "              reader = csv.reader(f)\n",
    "              flag = 0\n",
    "              for line in reader:\n",
    "                #print(line)\n",
    "                flag = flag + 1\n",
    "                if flag ==1 or flag==2:\n",
    "                    continue\n",
    "                if flag > 2:\n",
    "                    #add sentence on tlogs\n",
    "                    temp = line\n",
    "                    temp.append(block)\n",
    "                    temp.append(sentence)\n",
    "                    tlogs.append(temp)\n",
    "                    line[3] = str(int(line[3].split('.')[0])-120)\n",
    "              f.close()\n",
    "    #print (tlogs)\n",
    "    return tlogs"
   ]
  },
  {
   "cell_type": "code",
   "execution_count": 25,
   "metadata": {
    "collapsed": true
   },
   "outputs": [],
   "source": [
    "#get and add event key into tlogList\n",
    "def addEventKey(tlogList):\n",
    "    temp = []\n",
    "    for line in tlogList:\n",
    "        \n",
    "        if line[3] == '-120':\n",
    "            line.append(line[4])\n",
    "            temp = line\n",
    "        else:\n",
    "            if len(line[4])>len(temp[4]):\n",
    "                n = len(line[4])-1\n",
    "                str1 = line[4][n]\n",
    "                line.append(str1)\n",
    "            if len(line[4])<len(temp[4]):\n",
    "                line.append('B')\n",
    "            temp = line\n",
    "    return tlogList"
   ]
  },
  {
   "cell_type": "code",
   "execution_count": 26,
   "metadata": {
    "collapsed": true
   },
   "outputs": [],
   "source": [
    "def deleteTheRows(tlogRows):\n",
    "    flag = 0\n",
    "    deleteList = []\n",
    "    for line in tlogRows:\n",
    "        if len(line)== 7:\n",
    "            #print(line)\n",
    "            deleteList.append(flag-1)\n",
    "            deleteList.append(flag)\n",
    "        flag = flag + 1\n",
    "    #delete from the back (biggest index)\n",
    "    deleteList1 = sorted(deleteList, reverse=True)\n",
    "    for item in deleteList1:\n",
    "        #print(tlogRows[item])\n",
    "        del tlogRows[item]\n",
    "    return tlogRows\n",
    "            "
   ]
  },
  {
   "cell_type": "code",
   "execution_count": 27,
   "metadata": {
    "collapsed": true
   },
   "outputs": [],
   "source": [
    "#read fixations for one subject\n",
    "\n",
    "def readFixationsForOneSubject(subject):\n",
    "    path = \".\\\\PJ0009\\\\data\\\\fixations_\"\n",
    "    files= os.listdir(path) #得到文件夹下的所有文件名称\n",
    "    fixations = []\n",
    "    for file in files:\n",
    "        if not os.path.isdir(file) and str(file).split('_')[1]==subject:\n",
    "            f = codecs.open(path+\"/\"+file, 'r', encoding = 'utf8')\n",
    "            reader = csv.reader(f)\n",
    "            flag = 0\n",
    "            for line in reader:\n",
    "                flag = flag + 1\n",
    "                if flag ==1:\n",
    "                    continue\n",
    "                if flag > 1:\n",
    "                    fixations.append(line)\n",
    "            f.close()\n",
    "    return fixations"
   ]
  },
  {
   "cell_type": "code",
   "execution_count": 28,
   "metadata": {
    "collapsed": true
   },
   "outputs": [],
   "source": [
    "def drawFixRate(title, posList, keyList, rateList):\n",
    "    \n",
    "    from PIL import Image, ImageDraw, ImageFont\n",
    "    import matplotlib.pyplot as plt\n",
    "\n",
    "    image = Image.open('back.png')\n",
    "    draw = ImageDraw.Draw(image)\n",
    "    for index in range(len(keyList)):\n",
    "        if not keyList[index]==' ':\n",
    "            #key width=130.9px height=200px\n",
    "            x1 = int(posList[index][0]-(130.9/2))\n",
    "            y1 = int(posList[index][1]-(200/2))\n",
    "            x2 = int(posList[index][0]+(130.9/2))\n",
    "            y2 = int(posList[index][1]+(200/2))\n",
    "            \n",
    "            draw.rectangle((x1,y1,x2,y2), fill=(int((1-rateList[index])*255), 0, 0), outline=None)\n",
    "            font1 = ImageFont.truetype(\"arial.ttf\", 80)\n",
    "            font2 = ImageFont.truetype(\"arial.ttf\", 40)\n",
    "            draw.text((x1+45,y1), keyList[index],  fill=(255, 255, 255), font=font1)\n",
    "            draw.text((x1+10,y1+100), str(rateList[index]*100)[0:4]+'%',  fill=(255, 255, 255), font=font2)\n",
    "            \n",
    "        else:\n",
    "            #key width=716px height=200px\n",
    "            x1 = int(posList[index][0]-(716/2))\n",
    "            y1 = int(posList[index][1]-(200/2))\n",
    "            x2 = int(posList[index][0]+(716/2))\n",
    "            y2 = int(posList[index][1]+(200/2))\n",
    "            \n",
    "            draw.rectangle((x1,y1,x2,y2), fill=(int((1-rateList[index])*255), 0, 0), outline=None)\n",
    "            font1 = ImageFont.truetype(\"arial.ttf\", 80)\n",
    "            font2 = ImageFont.truetype(\"arial.ttf\", 40)\n",
    "            draw.text((x1+350,y1), keyList[index],  fill=(255, 255, 255), font=font1)\n",
    "            #draw.text((x1+310,y1+100), str(rateList[index]*100)[0:4]+'%',  fill=(255, 255, 255), font=font2)\n",
    "            #str1 = str(rateList[index]*100)\n",
    "            #draw.text((x1+310,y1+100), str1.split('.')[0]+'.'+str1.split('.')[1][0:1]+'%',  fill=(255, 255, 255), font=font2)\n",
    "            draw.text((x1+310,y1+100), str(round(rateList[index]*100,1))+'%',  fill=(255, 255, 255), font=font2)\n",
    "            \n",
    "    image.save(title+ \".png\")\n",
    "    #image.show()"
   ]
  },
  {
   "cell_type": "code",
   "execution_count": 29,
   "metadata": {
    "collapsed": true
   },
   "outputs": [],
   "source": [
    "def isNumber(s):\n",
    "    try:\n",
    "        float(s)\n",
    "        return True\n",
    "    except ValueError:\n",
    "        pass\n",
    "        return False"
   ]
  },
  {
   "cell_type": "code",
   "execution_count": 30,
   "metadata": {
    "collapsed": true
   },
   "outputs": [],
   "source": [
    "def x_cm2pic(x):\n",
    "    xscale =1838-594 ; x0 = 94; xim = 500\n",
    "    return x*xscale+x0+xim\n",
    "    \n",
    "def y_cm2pic(y):\n",
    "    yscale =2524-1920 ; y0 = 1720; yim = 200\n",
    "    return y*yscale+y0+yim\n",
    "\n",
    "def xy_cm2pic(x,y):\n",
    "    return [x_cm2pic(x),y_cm2pic(y)]\n",
    "\n",
    "# return key position\n",
    "def KeyToXY(key):\n",
    "    keys_ = ['q', 'w', 'e', 'r', 't', 'y', 'u', 'i', 'o', 'p', 'å', 'a', 's', 'd', 'f', \n",
    "             'g', 'h', 'j', 'k', 'l', 'ö', 'ä', 'z', 'x', 'c', 'v', 'b', 'n', 'm', 'B', ' ']\n",
    "    xs = [566, 697, 828, 959, 1090, 1221, 1351, 1482, 1613, 1744, 1875, 566, 697, 828, \n",
    "          959, 1090, 1221, 1351, 1482, 1613, 1744, 1875, 740, 900, 1060, 1220, 1380, 1540, \n",
    "          1700, 1872, 1220]\n",
    "    ys = [2044, 2044, 2044, 2044, 2044, 2044, 2044, 2044, 2044, 2044, 2044, 2248, 2248, 2248, \n",
    "          2248, 2248, 2248, 2248, 2248, 2248, 2248, 2248, 2452, 2452, 2452, 2452, 2452, 2452, \n",
    "          2452, 2455, 2656]\n",
    "    if key not in keys_:\n",
    "        return []\n",
    "    else:\n",
    "        p = keys_.index(key)\n",
    "        return [xs[p], ys[p]]"
   ]
  },
  {
   "cell_type": "code",
   "execution_count": 31,
   "metadata": {
    "collapsed": true
   },
   "outputs": [],
   "source": [
    "# distance between eye position and target key center is smaller than d?\n",
    "\n",
    "def isInDis(key, x, y, d):\n",
    "    x1 = x_cm2pic(x)\n",
    "    y1 = y_cm2pic(y)\n",
    "    x2 = KeyToXY(key)[0]\n",
    "    y2 = KeyToXY(key)[1]\n",
    "    # convert from pixel to cm\n",
    "    dis = (0.4448336*numpy.sqrt((x2-x1)*(x2-x1)+(y2-y1)*(y2-y1)))/100\n",
    "    if dis<d:\n",
    "        return True\n",
    "    else:\n",
    "        return False"
   ]
  },
  {
   "cell_type": "code",
   "execution_count": 32,
   "metadata": {
    "collapsed": true
   },
   "outputs": [],
   "source": [
    "# eye position is in the rectangle around the target key?\n",
    "\n",
    "def isInRec(key, x, y, dis):\n",
    "    x = x_cm2pic(x)\n",
    "    y = y_cm2pic(y)\n",
    "    if key==' ':\n",
    "        #key width=716px height=200px\n",
    "        x1 = KeyToXY(key)[0]-(716/2)-dis\n",
    "        y1 = KeyToXY(key)[1]-(200/2)-dis\n",
    "        x2 = KeyToXY(key)[0]+(716/2)+dis\n",
    "        y2 = KeyToXY(key)[1]+(200/2)+dis\n",
    "    else:\n",
    "        #key width=130.9px height=200px\n",
    "        x1 = KeyToXY(key)[0]-(130.9/2)-dis\n",
    "        y1 = KeyToXY(key)[1]-(200/2)-dis\n",
    "        x2 = KeyToXY(key)[0]+(130.9/2)+dis\n",
    "        y2 = KeyToXY(key)[1]+(200/2)+dis\n",
    "        \n",
    "    if x1<x<x2 and y1<y<y2:\n",
    "        return True\n",
    "    else:\n",
    "        return False\n",
    "        "
   ]
  },
  {
   "cell_type": "code",
   "execution_count": 33,
   "metadata": {
    "collapsed": true
   },
   "outputs": [],
   "source": [
    "def calculateForEachSubject(ts, te, d):\n",
    "    \n",
    "    import matplotlib.pyplot as plt\n",
    "    import operator as op\n",
    "\n",
    "    alltlogs = deleteTheRows(addEventKey(readAlltlogs()))\n",
    "\n",
    "    flag = 0\n",
    "    fixationForOneSubject = []\n",
    "    allSubjects = []\n",
    "    keyList = []\n",
    "    rateList = []\n",
    "    std_dev = []\n",
    "    posList = []\n",
    "\n",
    "    #read all subject numbers\n",
    "    for line in alltlogs:\n",
    "        if line[0] not in allSubjects:\n",
    "            allSubjects.append(line[0])\n",
    "\n",
    "    for item in allSubjects:\n",
    "        #calculate for each subject\n",
    "        fixationForOneSubject = readFixationsForOneSubject(str(item))\n",
    "        fixationList = []\n",
    "        for line in alltlogs:\n",
    "            \n",
    "            if line[0]==item and not len(KeyToXY(line[7]))==0:\n",
    "                #find all tlogs for current subject\n",
    "                #eventKey is in key list\n",
    "                if line[3]=='-120':\n",
    "                    #trialtimeBefore = float(line[3])\n",
    "                    #lastKey = line[7]\n",
    "                    continue\n",
    "                else:\n",
    "                    flag = flag + 1\n",
    "                    trialtime = float(line[3])\n",
    "                    eventKey = line[7]\n",
    "                    fixNumber = 0\n",
    "                    currentFix = -1\n",
    "                    for line1 in fixationForOneSubject:\n",
    "                        #current sentence, between 2 taps, how many fixations\n",
    "                        #print(line1[3])\n",
    "                        #######problems:\n",
    "                        #1. in some fixation files, trial time was written as system time(much bigger than normal)\n",
    "                        #2. in some fixation files, trial time was written as a string with characters\n",
    "                        if not line1[4] == currentFix:\n",
    "                            #take the first line in all same fixation lines\n",
    "                            if line1[1]== line[5]:\n",
    "                                #same block\n",
    "                                if isNumber(line1[3]):\n",
    "                                    # don't count lines with character trial time\n",
    "                                    if line1[2].split('.')[0] == line[6].split('.')[0] and trialtime-ts<float(line1[3])<trialtime-te:\n",
    "                                        # same sentence, time between trialtime-ts and trialtime-te (ts>te)                                        \n",
    "                                        #dis = \n",
    "                                        #distance from target key\n",
    "                                        #if isInRec(eventKey, float(line1[5]), float(line1[6]), (d*100)/0.4448336):\n",
    "                                        if isInDis(eventKey, float(line1[5]), float(line1[6]), d):\n",
    "                                            fixNumber = 1\n",
    "                                            currentFix = line1[4]\n",
    "\n",
    "                    if len(fixationList)==0:\n",
    "                        temp = []\n",
    "                        temp.append(eventKey)\n",
    "                        temp.append(fixNumber)\n",
    "                        temp.append(1)\n",
    "                        fixationList.append(temp)\n",
    "                    else:\n",
    "                        flag = 0\n",
    "                        for line2 in fixationList:\n",
    "                            if line2[0]==eventKey:\n",
    "                                line2[1] = line2[1]+fixNumber\n",
    "                                line2[2] = line2[2]+1\n",
    "                                flag = 1\n",
    "                        if flag==0:\n",
    "                            temp = []\n",
    "                            temp.append(eventKey)\n",
    "                            temp.append(fixNumber)\n",
    "                            temp.append(1)\n",
    "                            fixationList.append(temp)\n",
    "                    #print(fixationList)\n",
    "                    #trialtimeBefore = trialtime\n",
    "                    #lastKey = eventKey\n",
    "\n",
    "        for dataLine in fixationList:\n",
    "            dataLine[1] = dataLine[1]/dataLine[2]\n",
    "        fixationList1 = sorted(fixationList, key = op.itemgetter(1))\n",
    "        #print(fixationList1)\n",
    "        for dataLine in fixationList1:\n",
    "            #print(dataLine) \n",
    "            keyList.append(dataLine[0])\n",
    "            rateList.append(dataLine[1])\n",
    "            std_dev.append(0)\n",
    "            posList.append(KeyToXY(dataLine[0]))\n",
    "            \n",
    "        \n",
    "        \n",
    "\n",
    "        title = item+'_fixationRate_ts='+str(ts)+'_te='+str(te)+'_d='+str(d)\n",
    "        \n",
    "        #drawGraph(numberList, std_dev, keyList, title)\n",
    "        drawFixRate(title, posList, keyList, rateList)\n",
    "        \n",
    "        keyList = []\n",
    "        rateList = []\n",
    "        std_dev = []\n",
    "        posList = []\n",
    "    "
   ]
  },
  {
   "cell_type": "code",
   "execution_count": 34,
   "metadata": {
    "collapsed": true
   },
   "outputs": [],
   "source": [
    "def calculateForAll(ts, te, d):\n",
    "    \n",
    "    #ts, te are in ms\n",
    "    \n",
    "    import matplotlib.pyplot as plt\n",
    "    import operator as op\n",
    "\n",
    "    alltlogs = deleteTheRows(addEventKey(readAlltlogs()))\n",
    "\n",
    "    flag = 0\n",
    "    fixationForOneSubject = []\n",
    "    allSubjects = []\n",
    "    keyList = []\n",
    "    rateList = []\n",
    "    std_dev = []\n",
    "    posList = []\n",
    "    fixationList = []\n",
    "\n",
    "    #read all subject numbers\n",
    "    for line in alltlogs:\n",
    "        if line[0] not in allSubjects:\n",
    "            allSubjects.append(line[0])\n",
    "\n",
    "    for item in allSubjects:\n",
    "        #calculate for each subject\n",
    "        fixationForOneSubject = readFixationsForOneSubject(str(item))\n",
    "        \n",
    "        for line in alltlogs:\n",
    "            \n",
    "            if line[0]==item and not len(KeyToXY(line[7]))==0:\n",
    "                #find all tlogs for current subject\n",
    "                #eventKey is in key list\n",
    "                if line[3]=='-120':\n",
    "                    #trialtimeBefore = float(line[3])\n",
    "                    #lastKey = line[7]\n",
    "                    continue\n",
    "                else:\n",
    "                    flag = flag + 1\n",
    "                    trialtime = float(line[3])\n",
    "                    eventKey = line[7]\n",
    "                    fixNumber = 0\n",
    "                    currentFix = -1\n",
    "                    for line1 in fixationForOneSubject:\n",
    "                        #current sentence, between 2 taps, how many fixations\n",
    "                        #print(line1[3])\n",
    "                        #######problems:\n",
    "                        #1. in some fixation files, trial time was written as system time(much bigger than normal)\n",
    "                        #2. in some fixation files, trial time was written as a string with characters\n",
    "                        if not line1[4] == currentFix:\n",
    "                            #take the first line in all same fixation lines\n",
    "                            if line1[1]== line[5]:\n",
    "                                #same block\n",
    "                                if isNumber(line1[3]):\n",
    "                                    # don't count lines with character trial time\n",
    "                                    if line1[2].split('.')[0] == line[6].split('.')[0] and trialtime-ts<float(line1[3])<trialtime-te:\n",
    "                                        #same sentence, time between trialtime-ts and trialtime-te (ts>te)                                        \n",
    "                                        #dis = distanceKeyFixation(eventKey, float(line1[5]), float(line1[6]))\n",
    "                                        #distance from target key\n",
    "                                        if isInRec(eventKey, float(line1[5]), float(line1[6]), (d*100)/0.4448336):\n",
    "                                            fixNumber = 1\n",
    "                                            currentFix = line1[4]\n",
    "\n",
    "                    if len(fixationList)==0:\n",
    "                        temp = []\n",
    "                        temp.append(eventKey)\n",
    "                        temp.append(fixNumber)\n",
    "                        temp.append(1)\n",
    "                        fixationList.append(temp)\n",
    "                    else:\n",
    "                        flag = 0\n",
    "                        for line2 in fixationList:\n",
    "                            if line2[0]==eventKey:\n",
    "                                line2[1] = line2[1]+fixNumber\n",
    "                                line2[2] = line2[2]+1\n",
    "                                flag = 1\n",
    "                        if flag==0:\n",
    "                            temp = []\n",
    "                            temp.append(eventKey)\n",
    "                            temp.append(fixNumber)\n",
    "                            temp.append(1)\n",
    "                            fixationList.append(temp)\n",
    "                    #print(fixationList)\n",
    "                    #trialtimeBefore = trialtime\n",
    "                    #lastKey = eventKey\n",
    "\n",
    "    for dataLine in fixationList:\n",
    "         dataLine[1] = dataLine[1]/dataLine[2]\n",
    "    fixationList1 = sorted(fixationList, key = op.itemgetter(1))\n",
    "    #print(fixationList1)\n",
    "    for dataLine in fixationList1:\n",
    "        #print(dataLine) \n",
    "        keyList.append(dataLine[0])\n",
    "        rateList.append(dataLine[1])\n",
    "        std_dev.append(0)\n",
    "        posList.append(KeyToXY(dataLine[0]))\n",
    "            \n",
    "    title = 'fixationRate_for_all'\n",
    "    #drawFixRate(title, posList, keyList, rateList)\n",
    "    return outputFactors(posList, keyList, rateList)\n",
    "    \n",
    "    "
   ]
  },
  {
   "cell_type": "code",
   "execution_count": 35,
   "metadata": {
    "collapsed": true
   },
   "outputs": [],
   "source": [
    "#calculate average rate of every keys except for space and backspace\n",
    "\n",
    "def outputFactors(posList, keyList, rateList):\n",
    "    keyList1 = []\n",
    "    rateList1 = []\n",
    "    allRate = 0\n",
    "    for index in range(len(keyList)):\n",
    "        if keyList[index]==' ' or keyList[index]=='B':\n",
    "            continue\n",
    "        else:\n",
    "            keyList1.append(keyList[index])\n",
    "            rateList1.append(rateList[index])\n",
    "    for index1 in range(len(rateList1)):\n",
    "        allRate = allRate + rateList1[index1]\n",
    "    #calculate average rate of every keys except for space and backspace\n",
    "    avgRate = allRate/len(rateList1)\n",
    "    return avgRate\n",
    "    "
   ]
  },
  {
   "cell_type": "code",
   "execution_count": 51,
   "metadata": {
    "collapsed": true
   },
   "outputs": [],
   "source": [
    "def drawLineChart(title, xList, yList, flag):\n",
    "    import matplotlib.pyplot as plt \n",
    "  \n",
    "    plt.figure(figsize=(8,4))\n",
    "    \n",
    "    if flag=='t':\n",
    "        plt.xlabel('Time(s)')\n",
    "    if flag=='d':\n",
    "        plt.xlabel('Distance(cm)')\n",
    "\n",
    "    plt.xlabel('Time(s)')  \n",
    "    plt.ylabel('LocationRate(%)') \n",
    "    plt.title(title)\n",
    "    \n",
    "    if len(xList)!=0:\n",
    "        plt.plot(xList,yList,\".-\",linewidth=1)\n",
    "    \n",
    "    plt.savefig(title+\".png\")\n",
    "    plt.show()"
   ]
  },
  {
   "cell_type": "code",
   "execution_count": 92,
   "metadata": {
    "collapsed": true
   },
   "outputs": [],
   "source": [
    "def writeCSV(title, xList, yList, flag):\n",
    "    import csv\n",
    "    with open(title+'.csv','a+',encoding='utf8',newline = '')  as f:\n",
    "        f_csv = csv.writer(f)\n",
    "        if flag=='t':\n",
    "            f_csv.writerow(['Twindow','LocationRate'])\n",
    "        if flag=='d':\n",
    "            f_csv.writerow(['Dwindow','LocationRate'])\n",
    "        for index in range(len(xList)):\n",
    "            f_csv.writerow([xList[index],yList[index]])\n",
    "  "
   ]
  },
  {
   "cell_type": "code",
   "execution_count": 93,
   "metadata": {
    "collapsed": true
   },
   "outputs": [],
   "source": [
    "def calculateForT(Twindow, Tstep, d):\n",
    "    # Twindow, Tstep are in s\n",
    "    title = 'LocationRate_Twindow='+str(Twindow)+'_Tstep='+str(Tstep)+'_d='+str(d)\n",
    "    n = int(Twindow/Tstep)\n",
    "    t = 0\n",
    "    timeList = []\n",
    "    rateList = []\n",
    "    for index in range(n):\n",
    "        print(index)\n",
    "        if not index==0:\n",
    "            #turn s to ms, and put into calculateForAll(t, 0, d)\n",
    "            t = t + (Tstep*1000)\n",
    "            r = calculateForAll(t, 0, d)\n",
    "            #turn ms back to s and show\n",
    "            timeList.append(t/1000)\n",
    "            #turn 0.x to x%\n",
    "            rateList.append(r*100)\n",
    "        else:\n",
    "            timeList.append(0)\n",
    "            rateList.append(0)\n",
    "            \n",
    "    writeCSV(title, timeList, rateList,'t')\n",
    "    drawLineChart(title, timeList, rateList)\n",
    "        \n",
    "    "
   ]
  },
  {
   "cell_type": "code",
   "execution_count": 50,
   "metadata": {},
   "outputs": [
    {
     "name": "stdout",
     "output_type": "stream",
     "text": [
      "0\n",
      "1\n",
      "2\n",
      "3\n",
      "4\n",
      "5\n",
      "6\n",
      "7\n",
      "8\n",
      "9\n"
     ]
    },
    {
     "data": {
      "image/png": "[encoded data removed]",
      "text/plain": [
       "<matplotlib.figure.Figure at 0x26bb7d03048>"
      ]
     },
     "metadata": {},
     "output_type": "display_data"
    }
   ],
   "source": [
    "calculateForT(1000, 100, 1)"
   ]
  },
  {
   "cell_type": "code",
   "execution_count": 90,
   "metadata": {
    "scrolled": false
   },
   "outputs": [
    {
     "name": "stdout",
     "output_type": "stream",
     "text": [
      "0\n",
      "1\n",
      "2\n",
      "3\n",
      "4\n",
      "5\n",
      "6\n",
      "7\n",
      "8\n",
      "9\n",
      "10\n",
      "11\n",
      "12\n",
      "13\n",
      "14\n"
     ]
    },
    {
     "data": {
      "image/png": "[encoded data removed]",
      "text/plain": [
       "<matplotlib.figure.Figure at 0x26bb3ce8b00>"
      ]
     },
     "metadata": {},
     "output_type": "display_data"
    }
   ],
   "source": [
    "calculateForT(1500, 100, 1.3345)"
   ]
  },
  {
   "cell_type": "code",
   "execution_count": null,
   "metadata": {
    "collapsed": true
   },
   "outputs": [],
   "source": [
    "#First round for T, calculateForT(1500, 100, 1.3345) Rmax=0.73, 0.9Rmax=0.657 (t=600)"
   ]
  },
  {
   "cell_type": "code",
   "execution_count": 94,
   "metadata": {
    "collapsed": true
   },
   "outputs": [],
   "source": [
    "def calculateForD(Dwindow, Dstep, t):\n",
    "    title = 'FixationRate_Dwindow='+str(Dwindow)+'_Dstep='+str(Dstep)+'_t='+str(t)\n",
    "    n = int(Dwindow/Dstep)\n",
    "    d = 0\n",
    "    disList = []\n",
    "    rateList = []\n",
    "    for index in range(n):\n",
    "        print(index)\n",
    "        if not index==0:\n",
    "            d = d + Dstep\n",
    "            #turn t from s to ms and put into calculateForAll(t, 0, d)\n",
    "            r = calculateForAll(t*1000, 0, d)\n",
    "            disList.append(d)\n",
    "            #turn 0.x to x%\n",
    "            rateList.append(r*100)\n",
    "        else:\n",
    "            disList.append(0)\n",
    "            rateList.append(0)\n",
    "            \n",
    "    writeCSV(title, disList, rateList, 'd')\n",
    "    drawLineChart(title, disList, rateList)\n",
    "        \n",
    "    "
   ]
  },
  {
   "cell_type": "code",
   "execution_count": 95,
   "metadata": {},
   "outputs": [
    {
     "name": "stdout",
     "output_type": "stream",
     "text": [
      "0\n",
      "1\n",
      "2\n",
      "3\n",
      "4\n",
      "5\n",
      "6\n",
      "7\n",
      "8\n",
      "9\n",
      "10\n",
      "11\n",
      "12\n",
      "13\n",
      "14\n"
     ]
    },
    {
     "data": {
      "image/png": "[encoded data removed]",
      "text/plain": [
       "<matplotlib.figure.Figure at 0x26bb460db00>"
      ]
     },
     "metadata": {},
     "output_type": "display_data"
    }
   ],
   "source": [
    "calculateForD(1.5, 0.1, 600)"
   ]
  },
  {
   "cell_type": "code",
   "execution_count": 96,
   "metadata": {},
   "outputs": [
    {
     "name": "stdout",
     "output_type": "stream",
     "text": [
      "0\n",
      "1\n",
      "2\n",
      "3\n",
      "4\n",
      "5\n",
      "6\n",
      "7\n",
      "8\n",
      "9\n"
     ]
    },
    {
     "data": {
      "image/png": "[encoded data removed]",
      "text/plain": [
       "<matplotlib.figure.Figure at 0x26bb7ca6048>"
      ]
     },
     "metadata": {},
     "output_type": "display_data"
    }
   ],
   "source": [
    "calculateForD(2, 0.2, 600)"
   ]
  },
  {
   "cell_type": "code",
   "execution_count": 97,
   "metadata": {},
   "outputs": [
    {
     "name": "stdout",
     "output_type": "stream",
     "text": [
      "0\n",
      "1\n",
      "2\n",
      "3\n",
      "4\n",
      "5\n",
      "6\n",
      "7\n",
      "8\n",
      "9\n"
     ]
    },
    {
     "data": {
      "image/png": "[encoded data removed]",
      "text/plain": [
       "<matplotlib.figure.Figure at 0x26bb3deb8d0>"
      ]
     },
     "metadata": {},
     "output_type": "display_data"
    }
   ],
   "source": [
    "calculateForD(5, 0.5, 600)"
   ]
  },
  {
   "cell_type": "code",
   "execution_count": null,
   "metadata": {
    "collapsed": true
   },
   "outputs": [],
   "source": [
    "#First round for D, calculateForD(2, 0.2, 600) Rmax=0.7, 0.9Rmax=0.63 (d=1.2),"
   ]
  },
  {
   "cell_type": "code",
   "execution_count": 98,
   "metadata": {},
   "outputs": [
    {
     "name": "stdout",
     "output_type": "stream",
     "text": [
      "0\n",
      "1\n",
      "2\n",
      "3\n",
      "4\n",
      "5\n"
     ]
    },
    {
     "data": {
      "image/png": "[encoded data removed]",
      "text/plain": [
       "<matplotlib.figure.Figure at 0x26bb7ab8048>"
      ]
     },
     "metadata": {},
     "output_type": "display_data"
    }
   ],
   "source": [
    "calculateForT(600, 100, 1.2)"
   ]
  },
  {
   "cell_type": "code",
   "execution_count": 99,
   "metadata": {},
   "outputs": [
    {
     "name": "stdout",
     "output_type": "stream",
     "text": [
      "0\n",
      "1\n",
      "2\n",
      "3\n",
      "4\n",
      "5\n",
      "6\n",
      "7\n",
      "8\n",
      "9\n",
      "10\n",
      "11\n"
     ]
    },
    {
     "data": {
      "image/png": "[encoded data removed]",
      "text/plain": [
       "<matplotlib.figure.Figure at 0x26bb89f1048>"
      ]
     },
     "metadata": {},
     "output_type": "display_data"
    }
   ],
   "source": [
    "calculateForT(600, 50, 1.2)"
   ]
  },
  {
   "cell_type": "code",
   "execution_count": 100,
   "metadata": {},
   "outputs": [
    {
     "name": "stdout",
     "output_type": "stream",
     "text": [
      "0\n",
      "1\n",
      "2\n",
      "3\n",
      "4\n",
      "5\n",
      "6\n",
      "7\n",
      "8\n",
      "9\n",
      "10\n",
      "11\n",
      "12\n",
      "13\n",
      "14\n"
     ]
    },
    {
     "data": {
      "image/png": "[encoded data removed]",
      "text/plain": [
       "<matplotlib.figure.Figure at 0x26bb7bf5048>"
      ]
     },
     "metadata": {},
     "output_type": "display_data"
    }
   ],
   "source": [
    "calculateForT(1500, 100, 1.2)"
   ]
  },
  {
   "cell_type": "code",
   "execution_count": null,
   "metadata": {
    "collapsed": true
   },
   "outputs": [],
   "source": [
    "#Second round for T, calculateForT(1500, 100, 1.2) Rmax=0.71, 0.9Rmax=0.639 (t=700)"
   ]
  },
  {
   "cell_type": "code",
   "execution_count": 101,
   "metadata": {},
   "outputs": [
    {
     "name": "stdout",
     "output_type": "stream",
     "text": [
      "0\n",
      "1\n",
      "2\n",
      "3\n",
      "4\n",
      "5\n",
      "6\n",
      "7\n",
      "8\n",
      "9\n"
     ]
    },
    {
     "data": {
      "image/png": "[encoded data removed]",
      "text/plain": [
       "<matplotlib.figure.Figure at 0x26bb7e34048>"
      ]
     },
     "metadata": {},
     "output_type": "display_data"
    }
   ],
   "source": [
    "calculateForD(5, 0.5, 700)"
   ]
  },
  {
   "cell_type": "code",
   "execution_count": null,
   "metadata": {
    "collapsed": true
   },
   "outputs": [],
   "source": []
  }
 ],
 "metadata": {
  "kernelspec": {
   "display_name": "Python 3",
   "language": "python",
   "name": "python3"
  },
  "language_info": {
   "codemirror_mode": {
    "name": "ipython",
    "version": 3
   },
   "file_extension": ".py",
   "mimetype": "text/x-python",
   "name": "python",
   "nbconvert_exporter": "python",
   "pygments_lexer": "ipython3",
   "version": "3.6.3"
  }
 },
 "nbformat": 4,
 "nbformat_minor": 2
}
